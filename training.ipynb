{
  "cells": [
    {
      "cell_type": "markdown",
      "id": "d0430e7f",
      "metadata": {
        "id": "d0430e7f"
      },
      "source": [
        "### Step 1: Environment Setup"
      ]
    },
    {
      "cell_type": "code",
      "execution_count": 1,
      "id": "21d693eb",
      "metadata": {
        "id": "21d693eb"
      },
      "outputs": [],
      "source": [
        "import os\n",
        "import pandas as pd\n",
        "import librosa\n",
        "import numpy as np\n",
        "import soundfile as sf\n",
        "from sklearn.model_selection import train_test_split\n",
        "from sklearn.preprocessing import StandardScaler\n",
        "import tabulate\n",
        "\n",
        "# Clone the GitHub repository to access the data locally\n",
        "!git clone https://github.com/Rajveermathur/Wake-Word-Classifier-ASR.git\n",
        "\n",
        "alexa_dir = 'Wake-Word-Classifier-ASR/data/alexa'\n",
        "jarvis_dir = 'Wake-Word-Classifier-ASR/data/jarvis'"
      ]
    },
    {
      "cell_type": "markdown",
      "source": [
        "### Step 2: Dataset Creation"
      ],
      "metadata": {
        "id": "o2pKj-vZYFBc"
      },
      "id": "o2pKj-vZYFBc"
    },
    {
      "cell_type": "code",
      "execution_count": 4,
      "id": "8ef6276f",
      "metadata": {
        "colab": {
          "base_uri": "https://localhost:8080/"
        },
        "id": "8ef6276f",
        "outputId": "fef17f09-8c54-45b2-d9ab-856c779705fe"
      },
      "outputs": [
        {
          "output_type": "stream",
          "name": "stdout",
          "text": [
            "Cloning into 'Wake-Word-Classifier-ASR'...\n",
            "remote: Enumerating objects: 72, done.\u001b[K\n",
            "remote: Counting objects: 100% (72/72), done.\u001b[K\n",
            "remote: Compressing objects: 100% (69/69), done.\u001b[K\n",
            "remote: Total 72 (delta 2), reused 72 (delta 2), pack-reused 0 (from 0)\u001b[K\n",
            "Receiving objects: 100% (72/72), 2.13 MiB | 7.06 MiB/s, done.\n",
            "Resolving deltas: 100% (2/2), done.\n",
            "✅ Loaded: 19.flac | Sample Rate: 16000 | Duration: 1.70s\n",
            "✅ Loaded: 22.flac | Sample Rate: 16000 | Duration: 2.26s\n",
            "✅ Loaded: 7.flac | Sample Rate: 16000 | Duration: 3.70s\n",
            "✅ Loaded: 0.flac | Sample Rate: 16000 | Duration: 3.30s\n",
            "✅ Loaded: 13.flac | Sample Rate: 16000 | Duration: 1.98s\n",
            "✅ Loaded: 15.flac | Sample Rate: 16000 | Duration: 2.02s\n",
            "✅ Loaded: 24.flac | Sample Rate: 16000 | Duration: 2.10s\n",
            "✅ Loaded: 16.flac | Sample Rate: 16000 | Duration: 1.94s\n",
            "✅ Loaded: 14.flac | Sample Rate: 16000 | Duration: 2.22s\n",
            "✅ Loaded: 28.flac | Sample Rate: 16000 | Duration: 3.14s\n",
            "✅ Loaded: 26.flac | Sample Rate: 16000 | Duration: 2.74s\n",
            "✅ Loaded: 4.flac | Sample Rate: 16000 | Duration: 3.62s\n",
            "✅ Loaded: 12.flac | Sample Rate: 16000 | Duration: 1.78s\n",
            "✅ Loaded: 10.flac | Sample Rate: 16000 | Duration: 2.02s\n",
            "✅ Loaded: 11.flac | Sample Rate: 16000 | Duration: 2.02s\n",
            "✅ Loaded: 25.flac | Sample Rate: 16000 | Duration: 2.98s\n",
            "✅ Loaded: 8.flac | Sample Rate: 16000 | Duration: 1.82s\n",
            "✅ Loaded: 29.flac | Sample Rate: 16000 | Duration: 2.78s\n",
            "✅ Loaded: 18.flac | Sample Rate: 16000 | Duration: 3.78s\n",
            "✅ Loaded: 17.flac | Sample Rate: 16000 | Duration: 2.38s\n",
            "✅ Loaded: 3.flac | Sample Rate: 16000 | Duration: 5.10s\n",
            "✅ Loaded: 6.flac | Sample Rate: 16000 | Duration: 4.58s\n",
            "✅ Loaded: 20.flac | Sample Rate: 16000 | Duration: 1.74s\n",
            "✅ Loaded: 27.flac | Sample Rate: 16000 | Duration: 1.82s\n",
            "✅ Loaded: 5.flac | Sample Rate: 16000 | Duration: 3.18s\n",
            "✅ Loaded: 21.flac | Sample Rate: 16000 | Duration: 2.22s\n",
            "✅ Loaded: 2.flac | Sample Rate: 16000 | Duration: 2.42s\n",
            "✅ Loaded: 23.flac | Sample Rate: 16000 | Duration: 1.82s\n",
            "✅ Loaded: 9.flac | Sample Rate: 16000 | Duration: 2.30s\n",
            "✅ Loaded: 1.flac | Sample Rate: 16000 | Duration: 3.66s\n"
          ]
        }
      ],
      "source": [
        "for filename in os.listdir(alexa_dir):\n",
        "    if filename.endswith('.flac'):\n",
        "        file_path = os.path.join(alexa_dir, filename)\n",
        "        try:\n",
        "            y, sr = librosa.load(file_path, sr=None)  # sr=None keeps the original sample rate\n",
        "            print(f\"✅ Loaded: {filename} | Sample Rate: {sr} | Duration: {len(y)/sr:.2f}s\")\n",
        "        except Exception as e:\n",
        "            print(f\"❌ Could not load {filename}: {e}\")"
      ]
    },
    {
      "cell_type": "code",
      "execution_count": 5,
      "id": "272110ce",
      "metadata": {
        "colab": {
          "base_uri": "https://localhost:8080/"
        },
        "id": "272110ce",
        "outputId": "082f8c76-79a9-4647-ef41-1c76fc4d1108"
      },
      "outputs": [
        {
          "output_type": "stream",
          "name": "stdout",
          "text": [
            "✅ Loaded: 0eb17b69-7f9f-4db5-b68b-2c365cbdd660.wav | Sample Rate: 16000 | Duration: 3.07s\n",
            "✅ Loaded: 00a97647-55b9-4f62-be20-8e4b0ee510b0.wav | Sample Rate: 16000 | Duration: 3.07s\n",
            "✅ Loaded: 1ddadbc1-4d52-4df8-88c2-8615587e2608.wav | Sample Rate: 16000 | Duration: 3.07s\n",
            "✅ Loaded: 0d7cfa1f-6de3-42f4-97e1-324cda1d1271.wav | Sample Rate: 16000 | Duration: 2.30s\n",
            "✅ Loaded: 0b601785-a157-4263-920c-7890e3564efc.wav | Sample Rate: 16000 | Duration: 3.07s\n",
            "✅ Loaded: 1e128153-2111-4a6f-8792-6c24220ee5b0.wav | Sample Rate: 16000 | Duration: 2.53s\n",
            "✅ Loaded: 1d3548b5-a5e3-407a-96bb-502037d3b2b8.wav | Sample Rate: 16000 | Duration: 3.07s\n",
            "✅ Loaded: 00c476c2-9e01-40df-96c8-a5153db5b157.wav | Sample Rate: 16000 | Duration: 3.07s\n",
            "✅ Loaded: 1a617bc6-f87c-43d7-a0af-d482476276c5.wav | Sample Rate: 16000 | Duration: 3.07s\n",
            "✅ Loaded: 01f46f97-7ea8-474a-9285-13b038477eec.wav | Sample Rate: 16000 | Duration: 3.07s\n",
            "✅ Loaded: 2a713afc-d208-4eab-9dc1-fcdd862d8db6.wav | Sample Rate: 16000 | Duration: 3.07s\n",
            "✅ Loaded: 1c9fda58-050b-4b8f-8289-dd08c3107c8c.wav | Sample Rate: 16000 | Duration: 3.07s\n",
            "✅ Loaded: 0c7910b3-4414-4d48-9e6f-292a1d099f6f.wav | Sample Rate: 16000 | Duration: 3.07s\n",
            "✅ Loaded: 0fcb739e-f07c-46df-8108-747aef697f63.wav | Sample Rate: 16000 | Duration: 3.07s\n",
            "✅ Loaded: 1f549862-de22-4af0-875d-7ff927d127c2.wav | Sample Rate: 16000 | Duration: 3.07s\n",
            "✅ Loaded: 1ff2cc53-9fcd-442d-a939-0a3df41c8327.wav | Sample Rate: 16000 | Duration: 3.07s\n",
            "✅ Loaded: 0eaa1c84-950f-44d1-88f1-f000c3e6e4ba.wav | Sample Rate: 16000 | Duration: 3.07s\n",
            "✅ Loaded: 0df7b7ff-d667-488d-b4c2-ea78b4b847fe.wav | Sample Rate: 16000 | Duration: 3.07s\n",
            "✅ Loaded: 0e165e17-134f-4cee-9ec6-b43d1412d7d7.wav | Sample Rate: 16000 | Duration: 3.07s\n",
            "✅ Loaded: 1f3a351b-7bc8-4175-8b1d-1e5a9fea2a92.wav | Sample Rate: 16000 | Duration: 3.07s\n",
            "✅ Loaded: 1f79ab12-639a-4d89-9bcc-704b1119e4e2.wav | Sample Rate: 16000 | Duration: 3.07s\n",
            "✅ Loaded: 1ff6be5d-7958-464a-8726-1c268071d77d.wav | Sample Rate: 16000 | Duration: 3.07s\n",
            "✅ Loaded: 1dd67e92-a034-4afd-b28e-5bf9861db753.wav | Sample Rate: 16000 | Duration: 3.07s\n",
            "✅ Loaded: 0f597704-ff80-4c39-9ef4-275d70461617.wav | Sample Rate: 16000 | Duration: 3.07s\n",
            "✅ Loaded: 1c9eaae2-1f5f-48bc-8379-6d1e1943f50b.wav | Sample Rate: 16000 | Duration: 3.07s\n",
            "✅ Loaded: 00aba123-ae3a-4e0a-8603-9f7277b7d41f.wav | Sample Rate: 16000 | Duration: 3.07s\n",
            "✅ Loaded: 00af045b-ead8-4379-9110-c038e0bdd855.wav | Sample Rate: 16000 | Duration: 3.07s\n",
            "✅ Loaded: 01f13214-d1eb-48b6-8f58-e397731158fd.wav | Sample Rate: 16000 | Duration: 3.07s\n",
            "✅ Loaded: 0c20da21-b168-470d-9b99-98e2161ed91a.wav | Sample Rate: 16000 | Duration: 3.07s\n",
            "✅ Loaded: 1c7fce2f-1bb6-4df8-8dda-644f2159047f.wav | Sample Rate: 16000 | Duration: 3.07s\n"
          ]
        }
      ],
      "source": [
        "for filename in os.listdir(jarvis_dir):\n",
        "    if filename.endswith('.wav'):\n",
        "        file_path = os.path.join(jarvis_dir, filename)\n",
        "        try:\n",
        "            y, sr = librosa.load(file_path, sr=None)  # sr=None preserves original sampling rate\n",
        "            print(f\"✅ Loaded: {filename} | Sample Rate: {sr} | Duration: {len(y)/sr:.2f}s\")\n",
        "        except Exception as e:\n",
        "            print(f\"❌ Could not load {filename}: {e}\")\n"
      ]
    },
    {
      "cell_type": "code",
      "execution_count": 9,
      "id": "c33c25b2",
      "metadata": {
        "colab": {
          "base_uri": "https://localhost:8080/"
        },
        "id": "c33c25b2",
        "outputId": "b8c0cc21-76dd-4a6f-b7a4-7c37f4336f36"
      },
      "outputs": [
        {
          "output_type": "stream",
          "name": "stdout",
          "text": [
            "                                      filepath wake_word\n",
            "0  Wake-Word-Classifier-ASR/data/alexa/19.flac     alexa\n",
            "1  Wake-Word-Classifier-ASR/data/alexa/22.flac     alexa\n",
            "2   Wake-Word-Classifier-ASR/data/alexa/7.flac     alexa\n",
            "3   Wake-Word-Classifier-ASR/data/alexa/0.flac     alexa\n",
            "4  Wake-Word-Classifier-ASR/data/alexa/13.flac     alexa\n"
          ]
        }
      ],
      "source": [
        "base_dir = \"Wake-Word-Classifier-ASR/data\"\n",
        "data = []\n",
        "\n",
        "for wake_word in os.listdir(base_dir):\n",
        "    folder_path = os.path.join(base_dir, wake_word)\n",
        "    if os.path.isdir(folder_path):\n",
        "        for filename in os.listdir(folder_path):\n",
        "            if (wake_word == 'alexa' and filename.endswith('.flac')) or \\\n",
        "               (wake_word == 'jarvis' and filename.endswith('.wav')):\n",
        "                file_path = os.path.join(folder_path, filename)\n",
        "                data.append({'filepath': file_path, 'wake_word': wake_word})\n",
        "\n",
        "# print(data)\n",
        "df = pd.DataFrame(data)\n",
        "print(df.head())\n"
      ]
    },
    {
      "cell_type": "code",
      "execution_count": 10,
      "id": "fd276e15",
      "metadata": {
        "colab": {
          "base_uri": "https://localhost:8080/",
          "height": 178
        },
        "id": "fd276e15",
        "outputId": "390e58af-05eb-44ed-eff2-205ccdb9c4d5"
      },
      "outputs": [
        {
          "output_type": "execute_result",
          "data": {
            "text/plain": [
              "wake_word\n",
              "alexa     30\n",
              "jarvis    30\n",
              "Name: count, dtype: int64"
            ],
            "text/html": [
              "<div>\n",
              "<style scoped>\n",
              "    .dataframe tbody tr th:only-of-type {\n",
              "        vertical-align: middle;\n",
              "    }\n",
              "\n",
              "    .dataframe tbody tr th {\n",
              "        vertical-align: top;\n",
              "    }\n",
              "\n",
              "    .dataframe thead th {\n",
              "        text-align: right;\n",
              "    }\n",
              "</style>\n",
              "<table border=\"1\" class=\"dataframe\">\n",
              "  <thead>\n",
              "    <tr style=\"text-align: right;\">\n",
              "      <th></th>\n",
              "      <th>count</th>\n",
              "    </tr>\n",
              "    <tr>\n",
              "      <th>wake_word</th>\n",
              "      <th></th>\n",
              "    </tr>\n",
              "  </thead>\n",
              "  <tbody>\n",
              "    <tr>\n",
              "      <th>alexa</th>\n",
              "      <td>30</td>\n",
              "    </tr>\n",
              "    <tr>\n",
              "      <th>jarvis</th>\n",
              "      <td>30</td>\n",
              "    </tr>\n",
              "  </tbody>\n",
              "</table>\n",
              "</div><br><label><b>dtype:</b> int64</label>"
            ]
          },
          "metadata": {},
          "execution_count": 10
        }
      ],
      "source": [
        "# Define 2 labels\n",
        "df['wake_word'].value_counts()"
      ]
    },
    {
      "cell_type": "code",
      "execution_count": 11,
      "id": "a652fe6c",
      "metadata": {
        "colab": {
          "base_uri": "https://localhost:8080/",
          "height": 275
        },
        "id": "a652fe6c",
        "outputId": "47e53a0f-5b82-4de5-98e9-35c7ca759e31"
      },
      "outputs": [
        {
          "output_type": "stream",
          "name": "stdout",
          "text": [
            "label\n",
            "0    30\n",
            "1    30\n",
            "Name: count, dtype: int64\n"
          ]
        },
        {
          "output_type": "execute_result",
          "data": {
            "text/plain": [
              "                                      filepath wake_word  label\n",
              "0  Wake-Word-Classifier-ASR/data/alexa/19.flac     alexa      0\n",
              "1  Wake-Word-Classifier-ASR/data/alexa/22.flac     alexa      0\n",
              "2   Wake-Word-Classifier-ASR/data/alexa/7.flac     alexa      0\n",
              "3   Wake-Word-Classifier-ASR/data/alexa/0.flac     alexa      0\n",
              "4  Wake-Word-Classifier-ASR/data/alexa/13.flac     alexa      0"
            ],
            "text/html": [
              "\n",
              "  <div id=\"df-18be68cb-b293-48b5-ab4b-f1dc3e24b20b\" class=\"colab-df-container\">\n",
              "    <div>\n",
              "<style scoped>\n",
              "    .dataframe tbody tr th:only-of-type {\n",
              "        vertical-align: middle;\n",
              "    }\n",
              "\n",
              "    .dataframe tbody tr th {\n",
              "        vertical-align: top;\n",
              "    }\n",
              "\n",
              "    .dataframe thead th {\n",
              "        text-align: right;\n",
              "    }\n",
              "</style>\n",
              "<table border=\"1\" class=\"dataframe\">\n",
              "  <thead>\n",
              "    <tr style=\"text-align: right;\">\n",
              "      <th></th>\n",
              "      <th>filepath</th>\n",
              "      <th>wake_word</th>\n",
              "      <th>label</th>\n",
              "    </tr>\n",
              "  </thead>\n",
              "  <tbody>\n",
              "    <tr>\n",
              "      <th>0</th>\n",
              "      <td>Wake-Word-Classifier-ASR/data/alexa/19.flac</td>\n",
              "      <td>alexa</td>\n",
              "      <td>0</td>\n",
              "    </tr>\n",
              "    <tr>\n",
              "      <th>1</th>\n",
              "      <td>Wake-Word-Classifier-ASR/data/alexa/22.flac</td>\n",
              "      <td>alexa</td>\n",
              "      <td>0</td>\n",
              "    </tr>\n",
              "    <tr>\n",
              "      <th>2</th>\n",
              "      <td>Wake-Word-Classifier-ASR/data/alexa/7.flac</td>\n",
              "      <td>alexa</td>\n",
              "      <td>0</td>\n",
              "    </tr>\n",
              "    <tr>\n",
              "      <th>3</th>\n",
              "      <td>Wake-Word-Classifier-ASR/data/alexa/0.flac</td>\n",
              "      <td>alexa</td>\n",
              "      <td>0</td>\n",
              "    </tr>\n",
              "    <tr>\n",
              "      <th>4</th>\n",
              "      <td>Wake-Word-Classifier-ASR/data/alexa/13.flac</td>\n",
              "      <td>alexa</td>\n",
              "      <td>0</td>\n",
              "    </tr>\n",
              "  </tbody>\n",
              "</table>\n",
              "</div>\n",
              "    <div class=\"colab-df-buttons\">\n",
              "\n",
              "  <div class=\"colab-df-container\">\n",
              "    <button class=\"colab-df-convert\" onclick=\"convertToInteractive('df-18be68cb-b293-48b5-ab4b-f1dc3e24b20b')\"\n",
              "            title=\"Convert this dataframe to an interactive table.\"\n",
              "            style=\"display:none;\">\n",
              "\n",
              "  <svg xmlns=\"http://www.w3.org/2000/svg\" height=\"24px\" viewBox=\"0 -960 960 960\">\n",
              "    <path d=\"M120-120v-720h720v720H120Zm60-500h600v-160H180v160Zm220 220h160v-160H400v160Zm0 220h160v-160H400v160ZM180-400h160v-160H180v160Zm440 0h160v-160H620v160ZM180-180h160v-160H180v160Zm440 0h160v-160H620v160Z\"/>\n",
              "  </svg>\n",
              "    </button>\n",
              "\n",
              "  <style>\n",
              "    .colab-df-container {\n",
              "      display:flex;\n",
              "      gap: 12px;\n",
              "    }\n",
              "\n",
              "    .colab-df-convert {\n",
              "      background-color: #E8F0FE;\n",
              "      border: none;\n",
              "      border-radius: 50%;\n",
              "      cursor: pointer;\n",
              "      display: none;\n",
              "      fill: #1967D2;\n",
              "      height: 32px;\n",
              "      padding: 0 0 0 0;\n",
              "      width: 32px;\n",
              "    }\n",
              "\n",
              "    .colab-df-convert:hover {\n",
              "      background-color: #E2EBFA;\n",
              "      box-shadow: 0px 1px 2px rgba(60, 64, 67, 0.3), 0px 1px 3px 1px rgba(60, 64, 67, 0.15);\n",
              "      fill: #174EA6;\n",
              "    }\n",
              "\n",
              "    .colab-df-buttons div {\n",
              "      margin-bottom: 4px;\n",
              "    }\n",
              "\n",
              "    [theme=dark] .colab-df-convert {\n",
              "      background-color: #3B4455;\n",
              "      fill: #D2E3FC;\n",
              "    }\n",
              "\n",
              "    [theme=dark] .colab-df-convert:hover {\n",
              "      background-color: #434B5C;\n",
              "      box-shadow: 0px 1px 3px 1px rgba(0, 0, 0, 0.15);\n",
              "      filter: drop-shadow(0px 1px 2px rgba(0, 0, 0, 0.3));\n",
              "      fill: #FFFFFF;\n",
              "    }\n",
              "  </style>\n",
              "\n",
              "    <script>\n",
              "      const buttonEl =\n",
              "        document.querySelector('#df-18be68cb-b293-48b5-ab4b-f1dc3e24b20b button.colab-df-convert');\n",
              "      buttonEl.style.display =\n",
              "        google.colab.kernel.accessAllowed ? 'block' : 'none';\n",
              "\n",
              "      async function convertToInteractive(key) {\n",
              "        const element = document.querySelector('#df-18be68cb-b293-48b5-ab4b-f1dc3e24b20b');\n",
              "        const dataTable =\n",
              "          await google.colab.kernel.invokeFunction('convertToInteractive',\n",
              "                                                    [key], {});\n",
              "        if (!dataTable) return;\n",
              "\n",
              "        const docLinkHtml = 'Like what you see? Visit the ' +\n",
              "          '<a target=\"_blank\" href=https://colab.research.google.com/notebooks/data_table.ipynb>data table notebook</a>'\n",
              "          + ' to learn more about interactive tables.';\n",
              "        element.innerHTML = '';\n",
              "        dataTable['output_type'] = 'display_data';\n",
              "        await google.colab.output.renderOutput(dataTable, element);\n",
              "        const docLink = document.createElement('div');\n",
              "        docLink.innerHTML = docLinkHtml;\n",
              "        element.appendChild(docLink);\n",
              "      }\n",
              "    </script>\n",
              "  </div>\n",
              "\n",
              "\n",
              "    <div id=\"df-ce903dc2-cc78-40a9-9685-fd816548bff4\">\n",
              "      <button class=\"colab-df-quickchart\" onclick=\"quickchart('df-ce903dc2-cc78-40a9-9685-fd816548bff4')\"\n",
              "                title=\"Suggest charts\"\n",
              "                style=\"display:none;\">\n",
              "\n",
              "<svg xmlns=\"http://www.w3.org/2000/svg\" height=\"24px\"viewBox=\"0 0 24 24\"\n",
              "     width=\"24px\">\n",
              "    <g>\n",
              "        <path d=\"M19 3H5c-1.1 0-2 .9-2 2v14c0 1.1.9 2 2 2h14c1.1 0 2-.9 2-2V5c0-1.1-.9-2-2-2zM9 17H7v-7h2v7zm4 0h-2V7h2v10zm4 0h-2v-4h2v4z\"/>\n",
              "    </g>\n",
              "</svg>\n",
              "      </button>\n",
              "\n",
              "<style>\n",
              "  .colab-df-quickchart {\n",
              "      --bg-color: #E8F0FE;\n",
              "      --fill-color: #1967D2;\n",
              "      --hover-bg-color: #E2EBFA;\n",
              "      --hover-fill-color: #174EA6;\n",
              "      --disabled-fill-color: #AAA;\n",
              "      --disabled-bg-color: #DDD;\n",
              "  }\n",
              "\n",
              "  [theme=dark] .colab-df-quickchart {\n",
              "      --bg-color: #3B4455;\n",
              "      --fill-color: #D2E3FC;\n",
              "      --hover-bg-color: #434B5C;\n",
              "      --hover-fill-color: #FFFFFF;\n",
              "      --disabled-bg-color: #3B4455;\n",
              "      --disabled-fill-color: #666;\n",
              "  }\n",
              "\n",
              "  .colab-df-quickchart {\n",
              "    background-color: var(--bg-color);\n",
              "    border: none;\n",
              "    border-radius: 50%;\n",
              "    cursor: pointer;\n",
              "    display: none;\n",
              "    fill: var(--fill-color);\n",
              "    height: 32px;\n",
              "    padding: 0;\n",
              "    width: 32px;\n",
              "  }\n",
              "\n",
              "  .colab-df-quickchart:hover {\n",
              "    background-color: var(--hover-bg-color);\n",
              "    box-shadow: 0 1px 2px rgba(60, 64, 67, 0.3), 0 1px 3px 1px rgba(60, 64, 67, 0.15);\n",
              "    fill: var(--button-hover-fill-color);\n",
              "  }\n",
              "\n",
              "  .colab-df-quickchart-complete:disabled,\n",
              "  .colab-df-quickchart-complete:disabled:hover {\n",
              "    background-color: var(--disabled-bg-color);\n",
              "    fill: var(--disabled-fill-color);\n",
              "    box-shadow: none;\n",
              "  }\n",
              "\n",
              "  .colab-df-spinner {\n",
              "    border: 2px solid var(--fill-color);\n",
              "    border-color: transparent;\n",
              "    border-bottom-color: var(--fill-color);\n",
              "    animation:\n",
              "      spin 1s steps(1) infinite;\n",
              "  }\n",
              "\n",
              "  @keyframes spin {\n",
              "    0% {\n",
              "      border-color: transparent;\n",
              "      border-bottom-color: var(--fill-color);\n",
              "      border-left-color: var(--fill-color);\n",
              "    }\n",
              "    20% {\n",
              "      border-color: transparent;\n",
              "      border-left-color: var(--fill-color);\n",
              "      border-top-color: var(--fill-color);\n",
              "    }\n",
              "    30% {\n",
              "      border-color: transparent;\n",
              "      border-left-color: var(--fill-color);\n",
              "      border-top-color: var(--fill-color);\n",
              "      border-right-color: var(--fill-color);\n",
              "    }\n",
              "    40% {\n",
              "      border-color: transparent;\n",
              "      border-right-color: var(--fill-color);\n",
              "      border-top-color: var(--fill-color);\n",
              "    }\n",
              "    60% {\n",
              "      border-color: transparent;\n",
              "      border-right-color: var(--fill-color);\n",
              "    }\n",
              "    80% {\n",
              "      border-color: transparent;\n",
              "      border-right-color: var(--fill-color);\n",
              "      border-bottom-color: var(--fill-color);\n",
              "    }\n",
              "    90% {\n",
              "      border-color: transparent;\n",
              "      border-bottom-color: var(--fill-color);\n",
              "    }\n",
              "  }\n",
              "</style>\n",
              "\n",
              "      <script>\n",
              "        async function quickchart(key) {\n",
              "          const quickchartButtonEl =\n",
              "            document.querySelector('#' + key + ' button');\n",
              "          quickchartButtonEl.disabled = true;  // To prevent multiple clicks.\n",
              "          quickchartButtonEl.classList.add('colab-df-spinner');\n",
              "          try {\n",
              "            const charts = await google.colab.kernel.invokeFunction(\n",
              "                'suggestCharts', [key], {});\n",
              "          } catch (error) {\n",
              "            console.error('Error during call to suggestCharts:', error);\n",
              "          }\n",
              "          quickchartButtonEl.classList.remove('colab-df-spinner');\n",
              "          quickchartButtonEl.classList.add('colab-df-quickchart-complete');\n",
              "        }\n",
              "        (() => {\n",
              "          let quickchartButtonEl =\n",
              "            document.querySelector('#df-ce903dc2-cc78-40a9-9685-fd816548bff4 button');\n",
              "          quickchartButtonEl.style.display =\n",
              "            google.colab.kernel.accessAllowed ? 'block' : 'none';\n",
              "        })();\n",
              "      </script>\n",
              "    </div>\n",
              "\n",
              "    </div>\n",
              "  </div>\n"
            ],
            "application/vnd.google.colaboratory.intrinsic+json": {
              "type": "dataframe",
              "variable_name": "df",
              "summary": "{\n  \"name\": \"df\",\n  \"rows\": 60,\n  \"fields\": [\n    {\n      \"column\": \"filepath\",\n      \"properties\": {\n        \"dtype\": \"string\",\n        \"num_unique_values\": 60,\n        \"samples\": [\n          \"Wake-Word-Classifier-ASR/data/alexa/19.flac\",\n          \"Wake-Word-Classifier-ASR/data/alexa/15.flac\",\n          \"Wake-Word-Classifier-ASR/data/jarvis/1d3548b5-a5e3-407a-96bb-502037d3b2b8.wav\"\n        ],\n        \"semantic_type\": \"\",\n        \"description\": \"\"\n      }\n    },\n    {\n      \"column\": \"wake_word\",\n      \"properties\": {\n        \"dtype\": \"category\",\n        \"num_unique_values\": 2,\n        \"samples\": [\n          \"jarvis\",\n          \"alexa\"\n        ],\n        \"semantic_type\": \"\",\n        \"description\": \"\"\n      }\n    },\n    {\n      \"column\": \"label\",\n      \"properties\": {\n        \"dtype\": \"number\",\n        \"std\": 0,\n        \"min\": 0,\n        \"max\": 1,\n        \"num_unique_values\": 2,\n        \"samples\": [\n          1,\n          0\n        ],\n        \"semantic_type\": \"\",\n        \"description\": \"\"\n      }\n    }\n  ]\n}"
            }
          },
          "metadata": {},
          "execution_count": 11
        }
      ],
      "source": [
        "df['label'] = df['wake_word'].apply(lambda x: 0 if x == 'alexa' else 1)\n",
        "print(df['label'].value_counts())\n",
        "df.head()"
      ]
    },
    {
      "cell_type": "markdown",
      "id": "849f4054",
      "metadata": {
        "id": "849f4054"
      },
      "source": [
        "### Step 3: Feature Extraction\n"
      ]
    },
    {
      "cell_type": "code",
      "execution_count": 12,
      "id": "caf0fe58",
      "metadata": {
        "id": "caf0fe58"
      },
      "outputs": [],
      "source": [
        "# Parameters\n",
        "max_duration = 4.0\n",
        "sample_rate = 16000\n",
        "n_mfcc = 13\n",
        "\n",
        "# Function to extract MFCC features\n",
        "def extract_features(path):\n",
        "    y, sr = librosa.load(path, sr=sample_rate, duration=max_duration)\n",
        "    expected_len = int(max_duration * sample_rate)\n",
        "    y = librosa.util.fix_length(y, size=expected_len)  # ← Fixed this line\n",
        "    mfcc = librosa.feature.mfcc(y=y, sr=sr, n_mfcc=n_mfcc)\n",
        "    return np.mean(mfcc, axis=1)\n",
        "\n",
        "# Extract features for each file\n",
        "features = []\n",
        "valid_labels = []\n",
        "\n",
        "for i, row in df.iterrows():\n",
        "    try:\n",
        "        mfcc_feat = extract_features(row['filepath'])\n",
        "        features.append(mfcc_feat)\n",
        "        valid_labels.append(row['label'])\n",
        "    except Exception as e:\n",
        "        print(f\"❌ Error loading {row['filepath']}: {e}\")\n",
        "\n",
        "# Convert to arrays\n",
        "X = np.array(features)\n",
        "y = np.array(valid_labels)\n",
        "\n",
        "# Normalize\n",
        "scaler = StandardScaler()\n",
        "X = scaler.fit_transform(X)\n",
        "\n",
        "# Split into train and test sets (70/30)\n",
        "X_train, X_test, y_train, y_test = train_test_split(\n",
        "    X, y, test_size=0.3, random_state=42, stratify=y\n",
        ")"
      ]
    },
    {
      "cell_type": "markdown",
      "id": "bea6a9dc",
      "metadata": {
        "id": "bea6a9dc"
      },
      "source": [
        "### Train Wake Word Classifier"
      ]
    },
    {
      "cell_type": "code",
      "execution_count": 13,
      "id": "8695a6aa",
      "metadata": {
        "id": "8695a6aa"
      },
      "outputs": [],
      "source": [
        "from sklearn.svm import SVC\n",
        "from sklearn.metrics import accuracy_score, classification_report, confusion_matrix\n",
        "\n",
        "clf = SVC(kernel='linear', C=1.0, random_state=42)\n",
        "clf.fit(X_train, y_train)\n",
        "\n",
        "y_pred = clf.predict(X_test)"
      ]
    },
    {
      "cell_type": "markdown",
      "id": "07cb677d",
      "metadata": {
        "id": "07cb677d"
      },
      "source": [
        "### Evaluate the Classifier"
      ]
    },
    {
      "cell_type": "code",
      "execution_count": 14,
      "id": "7ef6264f",
      "metadata": {
        "colab": {
          "base_uri": "https://localhost:8080/"
        },
        "id": "7ef6264f",
        "outputId": "2b214915-6b1c-4332-c3b1-f541fb07866d"
      },
      "outputs": [
        {
          "output_type": "stream",
          "name": "stdout",
          "text": [
            "✅ Accuracy: 1.0\n",
            "📊 Classification Report:\n",
            "               precision    recall  f1-score   support\n",
            "\n",
            "       alexa       1.00      1.00      1.00         9\n",
            "      jarvis       1.00      1.00      1.00         9\n",
            "\n",
            "    accuracy                           1.00        18\n",
            "   macro avg       1.00      1.00      1.00        18\n",
            "weighted avg       1.00      1.00      1.00        18\n",
            "\n",
            "🧾 Confusion Matrix:\n",
            " [[9 0]\n",
            " [0 9]]\n",
            "+----------------------+---------+----------+\n",
            "| Predicted \\ Actual   |   Alexa |   Jarvis |\n",
            "+======================+=========+==========+\n",
            "| Alexa                |       9 |        0 |\n",
            "+----------------------+---------+----------+\n",
            "| Jarvis               |       0 |        9 |\n",
            "+----------------------+---------+----------+\n",
            "\n",
            "✅ Overall Accuracy: 100.00%\n"
          ]
        }
      ],
      "source": [
        "from sklearn.metrics import confusion_matrix, accuracy_score\n",
        "from tabulate import tabulate\n",
        "\n",
        "\n",
        "print(\"✅ Accuracy:\", accuracy_score(y_test, y_pred))\n",
        "print(\"📊 Classification Report:\\n\", classification_report(y_test, y_pred, target_names=['alexa', 'jarvis']))\n",
        "print(\"🧾 Confusion Matrix:\\n\", confusion_matrix(y_test, y_pred))\n",
        "\n",
        "# Predict on test set\n",
        "y_pred = clf.predict(X_test)\n",
        "\n",
        "# Confusion matrix\n",
        "cm = confusion_matrix(y_test, y_pred)\n",
        "\n",
        "# Accuracy\n",
        "accuracy = accuracy_score(y_test, y_pred) * 100\n",
        "\n",
        "# Create table for tabulate\n",
        "headers = [\"Predicted \\\\ Actual\", \"Alexa\", \"Jarvis\"]\n",
        "table = [\n",
        "    [\"Alexa\", cm[0][0], cm[0][1]],\n",
        "    [\"Jarvis\", cm[1][0], cm[1][1]]\n",
        "]\n",
        "\n",
        "# Display\n",
        "print(tabulate(table, headers=headers, tablefmt=\"grid\"))\n",
        "print(f\"\\n✅ Overall Accuracy: {accuracy:.2f}%\")\n"
      ]
    }
  ],
  "metadata": {
    "kernelspec": {
      "display_name": ".venv",
      "language": "python",
      "name": "python3"
    },
    "language_info": {
      "codemirror_mode": {
        "name": "ipython",
        "version": 3
      },
      "file_extension": ".py",
      "mimetype": "text/x-python",
      "name": "python",
      "nbconvert_exporter": "python",
      "pygments_lexer": "ipython3",
      "version": "3.11.9"
    },
    "colab": {
      "provenance": [],
      "toc_visible": true
    }
  },
  "nbformat": 4,
  "nbformat_minor": 5
}